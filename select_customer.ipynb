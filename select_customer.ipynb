{
 "cells": [
  {
   "cell_type": "markdown",
   "metadata": {},
   "source": [
    "# Data Loading"
   ]
  },
  {
   "cell_type": "code",
   "execution_count": 2,
   "metadata": {},
   "outputs": [],
   "source": [
    "# import libraries\n",
    "\n",
    "import itertools\n",
    "import numpy as np\n",
    "import matplotlib.pyplot as plt\n",
    "from matplotlib.ticker import NullFormatter\n",
    "import pandas as pd\n",
    "import numpy as np\n",
    "import matplotlib.ticker as ticker\n",
    "from sklearn import preprocessing\n",
    "%matplotlib inline"
   ]
  },
  {
   "cell_type": "code",
   "execution_count": 3,
   "metadata": {},
   "outputs": [],
   "source": [
    "path = \"../KPMG/current_customer_with_grades.csv\"\n",
    "current = pd.read_csv(path)"
   ]
  },
  {
   "cell_type": "code",
   "execution_count": 4,
   "metadata": {},
   "outputs": [
    {
     "data": {
      "text/html": [
       "<div>\n",
       "<style scoped>\n",
       "    .dataframe tbody tr th:only-of-type {\n",
       "        vertical-align: middle;\n",
       "    }\n",
       "\n",
       "    .dataframe tbody tr th {\n",
       "        vertical-align: top;\n",
       "    }\n",
       "\n",
       "    .dataframe thead th {\n",
       "        text-align: right;\n",
       "    }\n",
       "</style>\n",
       "<table border=\"1\" class=\"dataframe\">\n",
       "  <thead>\n",
       "    <tr style=\"text-align: right;\">\n",
       "      <th></th>\n",
       "      <th>Current_Customer_Grade</th>\n",
       "      <th>owns_car</th>\n",
       "      <th>wealth_segment</th>\n",
       "      <th>past_3_years_bike_related_purchases</th>\n",
       "      <th>property_valuation</th>\n",
       "      <th>age</th>\n",
       "    </tr>\n",
       "  </thead>\n",
       "  <tbody>\n",
       "    <tr>\n",
       "      <th>0</th>\n",
       "      <td>1st grade</td>\n",
       "      <td>1</td>\n",
       "      <td>2</td>\n",
       "      <td>13</td>\n",
       "      <td>8</td>\n",
       "      <td>25.0</td>\n",
       "    </tr>\n",
       "    <tr>\n",
       "      <th>1</th>\n",
       "      <td>1st grade</td>\n",
       "      <td>1</td>\n",
       "      <td>1</td>\n",
       "      <td>28</td>\n",
       "      <td>10</td>\n",
       "      <td>48.0</td>\n",
       "    </tr>\n",
       "    <tr>\n",
       "      <th>2</th>\n",
       "      <td>1st grade</td>\n",
       "      <td>1</td>\n",
       "      <td>3</td>\n",
       "      <td>92</td>\n",
       "      <td>9</td>\n",
       "      <td>47.0</td>\n",
       "    </tr>\n",
       "    <tr>\n",
       "      <th>3</th>\n",
       "      <td>1st grade</td>\n",
       "      <td>0</td>\n",
       "      <td>2</td>\n",
       "      <td>14</td>\n",
       "      <td>10</td>\n",
       "      <td>29.0</td>\n",
       "    </tr>\n",
       "    <tr>\n",
       "      <th>4</th>\n",
       "      <td>1st grade</td>\n",
       "      <td>0</td>\n",
       "      <td>2</td>\n",
       "      <td>30</td>\n",
       "      <td>9</td>\n",
       "      <td>47.0</td>\n",
       "    </tr>\n",
       "    <tr>\n",
       "      <th>...</th>\n",
       "      <td>...</td>\n",
       "      <td>...</td>\n",
       "      <td>...</td>\n",
       "      <td>...</td>\n",
       "      <td>...</td>\n",
       "      <td>...</td>\n",
       "    </tr>\n",
       "    <tr>\n",
       "      <th>3482</th>\n",
       "      <td>4th grade</td>\n",
       "      <td>0</td>\n",
       "      <td>1</td>\n",
       "      <td>40</td>\n",
       "      <td>3</td>\n",
       "      <td>57.0</td>\n",
       "    </tr>\n",
       "    <tr>\n",
       "      <th>3483</th>\n",
       "      <td>4th grade</td>\n",
       "      <td>0</td>\n",
       "      <td>2</td>\n",
       "      <td>75</td>\n",
       "      <td>3</td>\n",
       "      <td>27.0</td>\n",
       "    </tr>\n",
       "    <tr>\n",
       "      <th>3484</th>\n",
       "      <td>4th grade</td>\n",
       "      <td>1</td>\n",
       "      <td>1</td>\n",
       "      <td>15</td>\n",
       "      <td>10</td>\n",
       "      <td>41.0</td>\n",
       "    </tr>\n",
       "    <tr>\n",
       "      <th>3485</th>\n",
       "      <td>4th grade</td>\n",
       "      <td>0</td>\n",
       "      <td>1</td>\n",
       "      <td>27</td>\n",
       "      <td>11</td>\n",
       "      <td>51.0</td>\n",
       "    </tr>\n",
       "    <tr>\n",
       "      <th>3486</th>\n",
       "      <td>4th grade</td>\n",
       "      <td>1</td>\n",
       "      <td>2</td>\n",
       "      <td>71</td>\n",
       "      <td>10</td>\n",
       "      <td>47.0</td>\n",
       "    </tr>\n",
       "  </tbody>\n",
       "</table>\n",
       "<p>3487 rows × 6 columns</p>\n",
       "</div>"
      ],
      "text/plain": [
       "     Current_Customer_Grade  owns_car  wealth_segment  \\\n",
       "0                 1st grade         1               2   \n",
       "1                 1st grade         1               1   \n",
       "2                 1st grade         1               3   \n",
       "3                 1st grade         0               2   \n",
       "4                 1st grade         0               2   \n",
       "...                     ...       ...             ...   \n",
       "3482              4th grade         0               1   \n",
       "3483              4th grade         0               2   \n",
       "3484              4th grade         1               1   \n",
       "3485              4th grade         0               1   \n",
       "3486              4th grade         1               2   \n",
       "\n",
       "      past_3_years_bike_related_purchases  property_valuation   age  \n",
       "0                                      13                   8  25.0  \n",
       "1                                      28                  10  48.0  \n",
       "2                                      92                   9  47.0  \n",
       "3                                      14                  10  29.0  \n",
       "4                                      30                   9  47.0  \n",
       "...                                   ...                 ...   ...  \n",
       "3482                                   40                   3  57.0  \n",
       "3483                                   75                   3  27.0  \n",
       "3484                                   15                  10  41.0  \n",
       "3485                                   27                  11  51.0  \n",
       "3486                                   71                  10  47.0  \n",
       "\n",
       "[3487 rows x 6 columns]"
      ]
     },
     "execution_count": 4,
     "metadata": {},
     "output_type": "execute_result"
    }
   ],
   "source": [
    "current"
   ]
  },
  {
   "cell_type": "code",
   "execution_count": 5,
   "metadata": {},
   "outputs": [
    {
     "data": {
      "text/plain": [
       "3rd grade    2003\n",
       "4th grade     955\n",
       "2nd grade     476\n",
       "1st grade      53\n",
       "Name: Current_Customer_Grade, dtype: int64"
      ]
     },
     "execution_count": 5,
     "metadata": {},
     "output_type": "execute_result"
    }
   ],
   "source": [
    "# how many of each class is in our data set\n",
    "\n",
    "current['Current_Customer_Grade'].value_counts()"
   ]
  },
  {
   "cell_type": "code",
   "execution_count": 27,
   "metadata": {},
   "outputs": [],
   "source": [
    "current['age'].fillna(current['age'].mode()[0], inplace=True)"
   ]
  },
  {
   "cell_type": "code",
   "execution_count": 28,
   "metadata": {},
   "outputs": [
    {
     "data": {
      "text/plain": [
       "Current_Customer_Grade                 0\n",
       "owns_car                               0\n",
       "wealth_segment                         0\n",
       "past_3_years_bike_related_purchases    0\n",
       "property_valuation                     0\n",
       "age                                    0\n",
       "dtype: int64"
      ]
     },
     "execution_count": 28,
     "metadata": {},
     "output_type": "execute_result"
    }
   ],
   "source": [
    "# check for NULL values in the data\n",
    "\n",
    "current.isnull().sum()"
   ]
  },
  {
   "cell_type": "markdown",
   "metadata": {},
   "source": [
    "# Data Processing"
   ]
  },
  {
   "cell_type": "code",
   "execution_count": 120,
   "metadata": {},
   "outputs": [],
   "source": [
    "X=current.iloc[:,[1,2,3,4,5]].values\n",
    "Y=current.iloc[:,0].values"
   ]
  },
  {
   "cell_type": "markdown",
   "metadata": {},
   "source": [
    "## Normalizing Data"
   ]
  },
  {
   "cell_type": "code",
   "execution_count": 121,
   "metadata": {},
   "outputs": [
    {
     "data": {
      "text/plain": [
       "array([[ 0.98661099,  0.29195652, -1.25111664,  0.17159288, -1.43141035],\n",
       "       [ 0.98661099, -0.90575216, -0.72683604,  0.88011199,  0.41722961],\n",
       "       [ 0.98661099,  1.48966519,  1.51009452,  0.52585243,  0.33685396],\n",
       "       [-1.01357071,  0.29195652, -1.2161646 ,  0.88011199, -1.10990775],\n",
       "       [-1.01357071,  0.29195652, -0.65693196,  0.52585243,  0.33685396]])"
      ]
     },
     "execution_count": 121,
     "metadata": {},
     "output_type": "execute_result"
    }
   ],
   "source": [
    "X = preprocessing.StandardScaler().fit(X).transform(X.astype(float))\n",
    "X[0:5]"
   ]
  },
  {
   "cell_type": "markdown",
   "metadata": {},
   "source": [
    "## Splitting Dataset"
   ]
  },
  {
   "cell_type": "code",
   "execution_count": 31,
   "metadata": {},
   "outputs": [
    {
     "name": "stdout",
     "output_type": "stream",
     "text": [
      "Train set: (2963, 5) (2963,)\n",
      "Test set: (524, 5) (524,)\n"
     ]
    }
   ],
   "source": [
    "from sklearn.model_selection import train_test_split\n",
    "\n",
    "X_train, X_test, Y_train, Y_test = train_test_split(X, Y, test_size=0.15, random_state=10)\n",
    "print ('Train set:', X_train.shape,  Y_train.shape)\n",
    "print ('Test set:', X_test.shape,  Y_test.shape)"
   ]
  },
  {
   "cell_type": "markdown",
   "metadata": {},
   "source": [
    "## Oversampling Minority Data"
   ]
  },
  {
   "cell_type": "code",
   "execution_count": 10,
   "metadata": {},
   "outputs": [
    {
     "name": "stdout",
     "output_type": "stream",
     "text": [
      "[['1st grade' '2nd grade' '3rd grade' '4th grade']\n",
      " [41 407 1715 800]]\n"
     ]
    }
   ],
   "source": [
    "# check if the testset is balanced\n",
    "\n",
    "grade, count=np.unique(Y_train, return_counts=True)\n",
    "print(np.asarray((grade, count)))"
   ]
  },
  {
   "cell_type": "code",
   "execution_count": 11,
   "metadata": {
    "collapsed": true,
    "jupyter": {
     "outputs_hidden": true
    }
   },
   "outputs": [
    {
     "name": "stdout",
     "output_type": "stream",
     "text": [
      "Collecting package metadata (current_repodata.json): done\n",
      "Solving environment: done\n",
      "\n",
      "\n",
      "==> WARNING: A newer version of conda exists. <==\n",
      "  current version: 4.8.5\n",
      "  latest version: 4.9.0\n",
      "\n",
      "Please update conda by running\n",
      "\n",
      "    $ conda update -n base -c defaults conda\n",
      "\n",
      "\n",
      "\n",
      "## Package Plan ##\n",
      "\n",
      "  environment location: /home/jupyterlab/conda/envs/python\n",
      "\n",
      "  added / updated specs:\n",
      "    - imbalanced-learn\n",
      "\n",
      "\n",
      "The following packages will be downloaded:\n",
      "\n",
      "    package                    |            build\n",
      "    ---------------------------|-----------------\n",
      "    blas-1.0                   |         openblas          46 KB\n",
      "    ca-certificates-2020.10.14 |                0         121 KB\n",
      "    certifi-2020.6.20          |           py36_0         156 KB\n",
      "    imbalanced-learn-0.2.1     |           py36_0         117 KB  glemaitre\n",
      "    joblib-0.17.0              |             py_0         206 KB\n",
      "    scikit-learn-0.23.2        |   py36h0573a6f_0         5.0 MB\n",
      "    scipy-1.5.2                |   py36habc2bb6_0        14.3 MB\n",
      "    threadpoolctl-2.1.0        |     pyh5ca1d4c_0          17 KB\n",
      "    ------------------------------------------------------------\n",
      "                                           Total:        20.0 MB\n",
      "\n",
      "The following NEW packages will be INSTALLED:\n",
      "\n",
      "  blas               pkgs/main/linux-64::blas-1.0-openblas\n",
      "  imbalanced-learn   glemaitre/linux-64::imbalanced-learn-0.2.1-py36_0\n",
      "  joblib             pkgs/main/noarch::joblib-0.17.0-py_0\n",
      "  scikit-learn       pkgs/main/linux-64::scikit-learn-0.23.2-py36h0573a6f_0\n",
      "  scipy              pkgs/main/linux-64::scipy-1.5.2-py36habc2bb6_0\n",
      "  threadpoolctl      pkgs/main/noarch::threadpoolctl-2.1.0-pyh5ca1d4c_0\n",
      "\n",
      "The following packages will be UPDATED:\n",
      "\n",
      "  ca-certificates    conda-forge::ca-certificates-2020.6.2~ --> pkgs/main::ca-certificates-2020.10.14-0\n",
      "\n",
      "The following packages will be SUPERSEDED by a higher-priority channel:\n",
      "\n",
      "  certifi            conda-forge::certifi-2020.6.20-py36h9~ --> pkgs/main::certifi-2020.6.20-py36_0\n",
      "\n",
      "\n",
      "\n",
      "Downloading and Extracting Packages\n",
      "scikit-learn-0.23.2  | 5.0 MB    | ##################################### | 100% \n",
      "joblib-0.17.0        | 206 KB    | ##################################### | 100% \n",
      "blas-1.0             | 46 KB     | ##################################### | 100% \n",
      "scipy-1.5.2          | 14.3 MB   | ##################################### | 100% \n",
      "ca-certificates-2020 | 121 KB    | ##################################### | 100% \n",
      "certifi-2020.6.20    | 156 KB    | ##################################### | 100% \n",
      "imbalanced-learn-0.2 | 117 KB    | ##################################### | 100% \n",
      "threadpoolctl-2.1.0  | 17 KB     | ##################################### | 100% \n",
      "Preparing transaction: done\n",
      "Verifying transaction: done\n",
      "Executing transaction: done\n",
      "\n",
      "Note: you may need to restart the kernel to use updated packages.\n"
     ]
    }
   ],
   "source": [
    "conda install -c glemaitre imbalanced-learn"
   ]
  },
  {
   "cell_type": "code",
   "execution_count": 39,
   "metadata": {},
   "outputs": [
    {
     "name": "stdout",
     "output_type": "stream",
     "text": [
      "(4637, 5) (4637,)\n"
     ]
    },
    {
     "name": "stderr",
     "output_type": "stream",
     "text": [
      "/home/jupyterlab/conda/envs/python/lib/python3.6/site-packages/imblearn/base.py:306: UserWarning: The target type should be binary.\n",
      "  warnings.warn('The target type should be binary.')\n"
     ]
    }
   ],
   "source": [
    "# over-sampling minority group\n",
    "import imblearn\n",
    "from imblearn.over_sampling import SMOTE\n",
    "\n",
    "OS = SMOTE(random_state=12)\n",
    "X_res, Y_res = OS.fit_sample(X_train, Y_train)\n",
    "\n",
    "print(X_res.shape, Y_res.shape)"
   ]
  },
  {
   "cell_type": "code",
   "execution_count": 40,
   "metadata": {},
   "outputs": [
    {
     "name": "stdout",
     "output_type": "stream",
     "text": [
      "[['1st grade' '2nd grade' '3rd grade' '4th grade']\n",
      " [1715 407 1715 800]]\n"
     ]
    }
   ],
   "source": [
    "# check again if the testset is balanced\n",
    "\n",
    "grade, count=np.unique(Y_res, return_counts=True)\n",
    "print(np.asarray((grade, count)))"
   ]
  },
  {
   "cell_type": "code",
   "execution_count": 41,
   "metadata": {},
   "outputs": [
    {
     "name": "stdout",
     "output_type": "stream",
     "text": [
      "(5945, 5) (5945,)\n"
     ]
    },
    {
     "name": "stderr",
     "output_type": "stream",
     "text": [
      "/home/jupyterlab/conda/envs/python/lib/python3.6/site-packages/imblearn/base.py:306: UserWarning: The target type should be binary.\n",
      "  warnings.warn('The target type should be binary.')\n"
     ]
    }
   ],
   "source": [
    "# over-sampling minority group\n",
    "import imblearn\n",
    "from imblearn.over_sampling import SMOTE\n",
    "\n",
    "OS = SMOTE(random_state=12)\n",
    "X_res2, Y_res2 = OS.fit_sample(X_res, Y_res)\n",
    "\n",
    "print(X_res2.shape, Y_res2.shape)"
   ]
  },
  {
   "cell_type": "code",
   "execution_count": 42,
   "metadata": {},
   "outputs": [
    {
     "name": "stdout",
     "output_type": "stream",
     "text": [
      "[['1st grade' '2nd grade' '3rd grade' '4th grade']\n",
      " [1715 1715 1715 800]]\n"
     ]
    }
   ],
   "source": [
    "# check again if the testset is balanced\n",
    "\n",
    "grade, count=np.unique(Y_res2, return_counts=True)\n",
    "print(np.asarray((grade, count)))"
   ]
  },
  {
   "cell_type": "code",
   "execution_count": 43,
   "metadata": {},
   "outputs": [
    {
     "name": "stdout",
     "output_type": "stream",
     "text": [
      "(6860, 5) (6860,)\n"
     ]
    },
    {
     "name": "stderr",
     "output_type": "stream",
     "text": [
      "/home/jupyterlab/conda/envs/python/lib/python3.6/site-packages/imblearn/base.py:306: UserWarning: The target type should be binary.\n",
      "  warnings.warn('The target type should be binary.')\n"
     ]
    }
   ],
   "source": [
    "# over-sampling minority group\n",
    "import imblearn\n",
    "from imblearn.over_sampling import SMOTE\n",
    "\n",
    "OS = SMOTE(random_state=12)\n",
    "X_res3, Y_res3 = OS.fit_sample(X_res2, Y_res2)\n",
    "\n",
    "print(X_res3.shape, Y_res3.shape)"
   ]
  },
  {
   "cell_type": "code",
   "execution_count": 44,
   "metadata": {},
   "outputs": [
    {
     "name": "stdout",
     "output_type": "stream",
     "text": [
      "[['1st grade' '2nd grade' '3rd grade' '4th grade']\n",
      " [1715 1715 1715 1715]]\n"
     ]
    }
   ],
   "source": [
    "# check again if the testset is balanced\n",
    "\n",
    "grade, count=np.unique(Y_res3, return_counts=True)\n",
    "print(np.asarray((grade, count)))"
   ]
  },
  {
   "cell_type": "markdown",
   "metadata": {},
   "source": [
    "# Model Training"
   ]
  },
  {
   "cell_type": "markdown",
   "metadata": {},
   "source": [
    "## Classification: KNN"
   ]
  },
  {
   "cell_type": "code",
   "execution_count": 38,
   "metadata": {},
   "outputs": [],
   "source": [
    "# Import KNN libraries\n",
    "from sklearn.neighbors import KNeighborsClassifier\n",
    "from sklearn import metrics"
   ]
  },
  {
   "cell_type": "code",
   "execution_count": 62,
   "metadata": {},
   "outputs": [],
   "source": [
    "# Train the model with different Ks \n",
    "\n",
    "Ks = 50\n",
    "mean_acc_train = np.zeros((Ks-1))\n",
    "mean_acc_test = np.zeros((Ks-1))\n",
    "for n in range(20,Ks):\n",
    "    \n",
    "    #Train Model and Predict  \n",
    "    KNN = KNeighborsClassifier(n_neighbors = n).fit(X_res3,Y_res3)\n",
    "    yhat_train = KNN.predict(X_res3)\n",
    "    yhat_test = KNN.predict(X_test)\n",
    "    mean_acc_train[n-1] = metrics.accuracy_score(Y_res3, yhat_train)\n",
    "    mean_acc_test[n-1] = metrics.accuracy_score(Y_test, yhat_test)"
   ]
  },
  {
   "cell_type": "code",
   "execution_count": 47,
   "metadata": {
    "collapsed": true,
    "jupyter": {
     "outputs_hidden": true
    }
   },
   "outputs": [
    {
     "data": {
      "text/plain": [
       "array([0.        , 0.        , 0.        , 0.        , 0.        ,\n",
       "       0.        , 0.        , 0.        , 0.        , 0.        ,\n",
       "       0.        , 0.        , 0.        , 0.        , 0.        ,\n",
       "       0.        , 0.        , 0.        , 0.        , 0.6303207 ,\n",
       "       0.62653061, 0.61865889, 0.61326531, 0.61020408, 0.60539359,\n",
       "       0.59854227, 0.59358601, 0.59081633, 0.58804665, 0.58338192,\n",
       "       0.58046647, 0.5755102 , 0.57274052, 0.56865889, 0.56618076,\n",
       "       0.56268222, 0.55932945, 0.55553936, 0.55218659, 0.55058309,\n",
       "       0.54723032, 0.54402332, 0.54154519, 0.53965015, 0.53731778,\n",
       "       0.53206997, 0.53221574, 0.53090379, 0.52959184])"
      ]
     },
     "execution_count": 47,
     "metadata": {},
     "output_type": "execute_result"
    }
   ],
   "source": [
    "mean_acc_train"
   ]
  },
  {
   "cell_type": "code",
   "execution_count": 50,
   "metadata": {
    "collapsed": true,
    "jupyter": {
     "outputs_hidden": true
    }
   },
   "outputs": [
    {
     "data": {
      "text/plain": [
       "array([0.        , 0.        , 0.        , 0.        , 0.        ,\n",
       "       0.        , 0.        , 0.        , 0.        , 0.        ,\n",
       "       0.        , 0.        , 0.        , 0.        , 0.        ,\n",
       "       0.        , 0.        , 0.        , 0.        , 0.25381679,\n",
       "       0.2519084 , 0.24427481, 0.2519084 , 0.24236641, 0.24618321,\n",
       "       0.23473282, 0.22900763, 0.23091603, 0.22519084, 0.22519084,\n",
       "       0.22900763, 0.23282443, 0.21946565, 0.22137405, 0.21946565,\n",
       "       0.22519084, 0.21374046, 0.22519084, 0.22137405, 0.21183206,\n",
       "       0.20992366, 0.21374046, 0.20801527, 0.21946565, 0.21564885,\n",
       "       0.20801527, 0.21374046, 0.20992366, 0.20801527])"
      ]
     },
     "execution_count": 50,
     "metadata": {},
     "output_type": "execute_result"
    }
   ],
   "source": [
    "mean_acc_test"
   ]
  },
  {
   "cell_type": "code",
   "execution_count": 54,
   "metadata": {},
   "outputs": [
    {
     "data": {
      "image/png": "[encoded data removed]",
      "text/plain": [
       "<Figure size 432x288 with 1 Axes>"
      ]
     },
     "metadata": {
      "needs_background": "light"
     },
     "output_type": "display_data"
    }
   ],
   "source": [
    "# Choose the best K\n",
    "\n",
    "plt.plot(range(19,Ks),mean_acc_train[18:],'r')\n",
    "plt.plot(range(19,Ks),mean_acc_test[18:],'b')\n",
    "\n",
    "plt.title(\"Accuracy of the Model with Different K values\")\n",
    "plt.legend(('Accuracy for train', 'Accuracy for test train'))\n",
    "plt.ylabel('Accuracy ')\n",
    "plt.xlabel('Number of Neighbors (K)')\n",
    "plt.tight_layout()\n",
    "plt.show()"
   ]
  },
  {
   "cell_type": "code",
   "execution_count": 63,
   "metadata": {},
   "outputs": [
    {
     "name": "stdout",
     "output_type": "stream",
     "text": [
      "The best accuracy was with 0.2538167938931298 with k= 20\n"
     ]
    }
   ],
   "source": [
    "print( \"The best accuracy was with\", mean_acc_test.max(), \"with k=\", mean_acc_test.argmax()+1)"
   ]
  },
  {
   "cell_type": "markdown",
   "metadata": {},
   "source": [
    "The accuracy for KNN model is very low, so KNN might not be a good way for the dataset."
   ]
  },
  {
   "cell_type": "markdown",
   "metadata": {},
   "source": [
    "## Decision Tree"
   ]
  },
  {
   "cell_type": "code",
   "execution_count": 56,
   "metadata": {},
   "outputs": [],
   "source": [
    "# Import Decision Tree libraries\n",
    "from sklearn.tree import DecisionTreeClassifier"
   ]
  },
  {
   "cell_type": "code",
   "execution_count": 69,
   "metadata": {},
   "outputs": [
    {
     "name": "stdout",
     "output_type": "stream",
     "text": [
      "[0.         0.         0.35758017 0.39650146 0.42099125 0.46151603\n",
      " 0.51195335 0.56282799 0.61443149 0.66005831 0.71778426 0.77419825\n",
      " 0.81720117 0.86793003 0.89883382 0.92930029 0.95174927 0.96734694\n",
      " 0.98163265]\n",
      "[0.         0.         0.15267176 0.20801527 0.33396947 0.18320611\n",
      " 0.30725191 0.27862595 0.29007634 0.3148855  0.3148855  0.3129771\n",
      " 0.3129771  0.33396947 0.34160305 0.33587786 0.35496183 0.33969466\n",
      " 0.34732824]\n"
     ]
    }
   ],
   "source": [
    "# Build the model with different depths\n",
    "\n",
    "Ks = 20\n",
    "mean_acc_train = np.zeros((Ks-1))\n",
    "mean_acc_test = np.zeros((Ks-1))\n",
    "\n",
    "for d in range(3,Ks):\n",
    "    \n",
    "    #Train Model and Predict  \n",
    "    severityTree = DecisionTreeClassifier(criterion=\"entropy\", max_depth = d)\n",
    "    severityTree.fit(X_res3,Y_res3)\n",
    "    yhat_train = severityTree.predict(X_res3)\n",
    "    yhat_test = severityTree.predict(X_test)\n",
    "    mean_acc_train[d-1] = metrics.accuracy_score(Y_res3, yhat_train)\n",
    "    mean_acc_test[d-1] = metrics.accuracy_score(Y_test, yhat_test)\n",
    "\n",
    "print(mean_acc_train)\n",
    "print(mean_acc_test)"
   ]
  },
  {
   "cell_type": "code",
   "execution_count": 70,
   "metadata": {},
   "outputs": [
    {
     "data": {
      "image/png": "[encoded data removed]",
      "text/plain": [
       "<Figure size 432x288 with 1 Axes>"
      ]
     },
     "metadata": {
      "needs_background": "light"
     },
     "output_type": "display_data"
    }
   ],
   "source": [
    "# Choose the best K\n",
    "\n",
    "plt.plot(range(2,Ks),mean_acc_train[1:],'r')\n",
    "plt.plot(range(2,Ks),mean_acc_test[1:],'b')\n",
    "\n",
    "plt.title(\"Accuracy of the Model with Different Depth of Decision Trees\")\n",
    "plt.legend(('Accuracy for train', 'Accuracy for test train'))\n",
    "plt.ylabel('Accuracy ')\n",
    "plt.xlabel('Number of Neighbors (K)')\n",
    "plt.tight_layout()\n",
    "plt.show()"
   ]
  },
  {
   "cell_type": "code",
   "execution_count": 71,
   "metadata": {},
   "outputs": [
    {
     "name": "stdout",
     "output_type": "stream",
     "text": [
      "The best accuracy was with 0.3549618320610687 with k= 17\n"
     ]
    }
   ],
   "source": [
    "print( \"The best accuracy was with\", mean_acc_test.max(), \"with k=\", mean_acc_test.argmax()+1)"
   ]
  },
  {
   "cell_type": "markdown",
   "metadata": {},
   "source": [
    "The accuracy for Supervised Training does not turn well. Try Unsupervised Training instead."
   ]
  },
  {
   "cell_type": "markdown",
   "metadata": {},
   "source": [
    "## K-Means"
   ]
  },
  {
   "cell_type": "code",
   "execution_count": 122,
   "metadata": {},
   "outputs": [
    {
     "name": "stdout",
     "output_type": "stream",
     "text": [
      "(3487, 5) (3487,)\n"
     ]
    }
   ],
   "source": [
    "print(X.shape, Y.shape)"
   ]
  },
  {
   "cell_type": "code",
   "execution_count": 123,
   "metadata": {},
   "outputs": [
    {
     "name": "stdout",
     "output_type": "stream",
     "text": [
      "(5437, 5) (5437,)\n"
     ]
    },
    {
     "name": "stderr",
     "output_type": "stream",
     "text": [
      "/home/jupyterlab/conda/envs/python/lib/python3.6/site-packages/imblearn/base.py:306: UserWarning: The target type should be binary.\n",
      "  warnings.warn('The target type should be binary.')\n"
     ]
    }
   ],
   "source": [
    "# over-sampling minority group\n",
    "\n",
    "OS = SMOTE(random_state=12)\n",
    "X_K, Y_K = OS.fit_sample(X, Y)\n",
    "\n",
    "print(X_K.shape, Y_K.shape)"
   ]
  },
  {
   "cell_type": "code",
   "execution_count": 124,
   "metadata": {},
   "outputs": [
    {
     "name": "stdout",
     "output_type": "stream",
     "text": [
      "[['1st grade' '2nd grade' '3rd grade' '4th grade']\n",
      " [2003 476 2003 955]]\n"
     ]
    }
   ],
   "source": [
    "# check again if the testset is balanced\n",
    "\n",
    "grade, count=np.unique(Y_K, return_counts=True)\n",
    "print(np.asarray((grade, count)))"
   ]
  },
  {
   "cell_type": "code",
   "execution_count": 125,
   "metadata": {},
   "outputs": [
    {
     "name": "stdout",
     "output_type": "stream",
     "text": [
      "(6964, 5) (6964,)\n"
     ]
    },
    {
     "name": "stderr",
     "output_type": "stream",
     "text": [
      "/home/jupyterlab/conda/envs/python/lib/python3.6/site-packages/imblearn/base.py:306: UserWarning: The target type should be binary.\n",
      "  warnings.warn('The target type should be binary.')\n"
     ]
    }
   ],
   "source": [
    "# over-sampling minority group\n",
    "\n",
    "OS = SMOTE(random_state=12)\n",
    "X_K2, Y_K2 = OS.fit_sample(X_K, Y_K)\n",
    "\n",
    "print(X_K2.shape, Y_K2.shape)"
   ]
  },
  {
   "cell_type": "code",
   "execution_count": 126,
   "metadata": {},
   "outputs": [
    {
     "name": "stdout",
     "output_type": "stream",
     "text": [
      "[['1st grade' '2nd grade' '3rd grade' '4th grade']\n",
      " [2003 2003 2003 955]]\n"
     ]
    }
   ],
   "source": [
    "# check again if the testset is balanced\n",
    "\n",
    "grade, count=np.unique(Y_K2, return_counts=True)\n",
    "print(np.asarray((grade, count)))"
   ]
  },
  {
   "cell_type": "code",
   "execution_count": 127,
   "metadata": {},
   "outputs": [
    {
     "name": "stdout",
     "output_type": "stream",
     "text": [
      "(8012, 5) (8012,)\n"
     ]
    },
    {
     "name": "stderr",
     "output_type": "stream",
     "text": [
      "/home/jupyterlab/conda/envs/python/lib/python3.6/site-packages/imblearn/base.py:306: UserWarning: The target type should be binary.\n",
      "  warnings.warn('The target type should be binary.')\n"
     ]
    }
   ],
   "source": [
    "# over-sampling minority group\n",
    "\n",
    "OS = SMOTE(random_state=12)\n",
    "X_K3, Y_K3 = OS.fit_sample(X_K2, Y_K2)\n",
    "\n",
    "print(X_K3.shape, Y_K3.shape)"
   ]
  },
  {
   "cell_type": "code",
   "execution_count": 128,
   "metadata": {},
   "outputs": [
    {
     "name": "stdout",
     "output_type": "stream",
     "text": [
      "[['1st grade' '2nd grade' '3rd grade' '4th grade']\n",
      " [2003 2003 2003 2003]]\n"
     ]
    }
   ],
   "source": [
    "# check again if the testset is balanced\n",
    "\n",
    "grade, count=np.unique(Y_K3, return_counts=True)\n",
    "print(np.asarray((grade, count)))"
   ]
  },
  {
   "cell_type": "code",
   "execution_count": 72,
   "metadata": {
    "collapsed": true,
    "jupyter": {
     "outputs_hidden": true
    }
   },
   "outputs": [
    {
     "name": "stderr",
     "output_type": "stream",
     "text": [
      "/home/jupyterlab/conda/envs/python/lib/python3.6/site-packages/sklearn/utils/deprecation.py:143: FutureWarning: The sklearn.datasets.samples_generator module is  deprecated in version 0.22 and will be removed in version 0.24. The corresponding classes / functions should instead be imported from sklearn.datasets. Anything that cannot be imported from sklearn.datasets is now part of the private API.\n",
      "  warnings.warn(message, FutureWarning)\n"
     ]
    }
   ],
   "source": [
    "import random \n",
    "from sklearn.cluster import KMeans \n",
    "from sklearn.datasets.samples_generator import make_blobs \n",
    "%matplotlib inline"
   ]
  },
  {
   "cell_type": "code",
   "execution_count": 73,
   "metadata": {},
   "outputs": [],
   "source": [
    "np.random.seed(0)"
   ]
  },
  {
   "cell_type": "code",
   "execution_count": 129,
   "metadata": {},
   "outputs": [
    {
     "data": {
      "image/png": "[encoded data removed]",
      "text/plain": [
       "<Figure size 720x576 with 1 Axes>"
      ]
     },
     "metadata": {
      "needs_background": "light"
     },
     "output_type": "display_data"
    }
   ],
   "source": [
    "# Set K-means to 10\n",
    "wcss=[]\n",
    "\n",
    "for i in range(1,11):\n",
    "    k_means = KMeans(init = \"k-means++\", n_clusters = i, random_state=42)\n",
    "    k_means.fit(X_K3)\n",
    "    wcss.append(k_means.inertia_)\n",
    "\n",
    "fig = plt.figure(figsize=(10, 8))\n",
    "plt.plot(range(1,11), wcss)\n",
    "plt.title('Elbow Method for Optimal Number of Clusters')\n",
    "plt.xlabel('Number of Clusters')\n",
    "plt.ylabel('WCSS')\n",
    "plt.show()"
   ]
  },
  {
   "cell_type": "markdown",
   "metadata": {},
   "source": [
    "As the number of clusters increases, the value of wcss decreases and the dip or elbow shape gives us the appropriate number of clusters to be used. Here it is 4. So use 4 clusters to fit the model.\n",
    "\n",
    "However, later we re-grade the current table to 10 grades, so now use 10 clusters.  "
   ]
  },
  {
   "cell_type": "code",
   "execution_count": 166,
   "metadata": {},
   "outputs": [],
   "source": [
    "# fit model with cluster=4\n",
    "\n",
    "k_means = KMeans(init = \"k-means++\", n_clusters = 10, random_state=42)\n",
    "k_means.fit(X)\n",
    "labels = k_means.labels_"
   ]
  },
  {
   "cell_type": "code",
   "execution_count": 167,
   "metadata": {},
   "outputs": [
    {
     "data": {
      "text/html": [
       "<div>\n",
       "<style scoped>\n",
       "    .dataframe tbody tr th:only-of-type {\n",
       "        vertical-align: middle;\n",
       "    }\n",
       "\n",
       "    .dataframe tbody tr th {\n",
       "        vertical-align: top;\n",
       "    }\n",
       "\n",
       "    .dataframe thead th {\n",
       "        text-align: right;\n",
       "    }\n",
       "</style>\n",
       "<table border=\"1\" class=\"dataframe\">\n",
       "  <thead>\n",
       "    <tr style=\"text-align: right;\">\n",
       "      <th></th>\n",
       "      <th>Current_Customer_Grade</th>\n",
       "      <th>owns_car</th>\n",
       "      <th>wealth_segment</th>\n",
       "      <th>past_3_years_bike_related_purchases</th>\n",
       "      <th>property_valuation</th>\n",
       "      <th>age</th>\n",
       "      <th>label</th>\n",
       "    </tr>\n",
       "  </thead>\n",
       "  <tbody>\n",
       "    <tr>\n",
       "      <th>0</th>\n",
       "      <td>1st grade</td>\n",
       "      <td>1</td>\n",
       "      <td>2</td>\n",
       "      <td>13</td>\n",
       "      <td>8</td>\n",
       "      <td>25.0</td>\n",
       "      <td>2</td>\n",
       "    </tr>\n",
       "    <tr>\n",
       "      <th>1</th>\n",
       "      <td>1st grade</td>\n",
       "      <td>1</td>\n",
       "      <td>1</td>\n",
       "      <td>28</td>\n",
       "      <td>10</td>\n",
       "      <td>48.0</td>\n",
       "      <td>6</td>\n",
       "    </tr>\n",
       "    <tr>\n",
       "      <th>2</th>\n",
       "      <td>1st grade</td>\n",
       "      <td>1</td>\n",
       "      <td>3</td>\n",
       "      <td>92</td>\n",
       "      <td>9</td>\n",
       "      <td>47.0</td>\n",
       "      <td>7</td>\n",
       "    </tr>\n",
       "    <tr>\n",
       "      <th>3</th>\n",
       "      <td>1st grade</td>\n",
       "      <td>0</td>\n",
       "      <td>2</td>\n",
       "      <td>14</td>\n",
       "      <td>10</td>\n",
       "      <td>29.0</td>\n",
       "      <td>3</td>\n",
       "    </tr>\n",
       "    <tr>\n",
       "      <th>4</th>\n",
       "      <td>1st grade</td>\n",
       "      <td>0</td>\n",
       "      <td>2</td>\n",
       "      <td>30</td>\n",
       "      <td>9</td>\n",
       "      <td>47.0</td>\n",
       "      <td>8</td>\n",
       "    </tr>\n",
       "    <tr>\n",
       "      <th>...</th>\n",
       "      <td>...</td>\n",
       "      <td>...</td>\n",
       "      <td>...</td>\n",
       "      <td>...</td>\n",
       "      <td>...</td>\n",
       "      <td>...</td>\n",
       "      <td>...</td>\n",
       "    </tr>\n",
       "    <tr>\n",
       "      <th>3482</th>\n",
       "      <td>4th grade</td>\n",
       "      <td>0</td>\n",
       "      <td>1</td>\n",
       "      <td>40</td>\n",
       "      <td>3</td>\n",
       "      <td>57.0</td>\n",
       "      <td>5</td>\n",
       "    </tr>\n",
       "    <tr>\n",
       "      <th>3483</th>\n",
       "      <td>4th grade</td>\n",
       "      <td>0</td>\n",
       "      <td>2</td>\n",
       "      <td>75</td>\n",
       "      <td>3</td>\n",
       "      <td>27.0</td>\n",
       "      <td>5</td>\n",
       "    </tr>\n",
       "    <tr>\n",
       "      <th>3484</th>\n",
       "      <td>4th grade</td>\n",
       "      <td>1</td>\n",
       "      <td>1</td>\n",
       "      <td>15</td>\n",
       "      <td>10</td>\n",
       "      <td>41.0</td>\n",
       "      <td>6</td>\n",
       "    </tr>\n",
       "    <tr>\n",
       "      <th>3485</th>\n",
       "      <td>4th grade</td>\n",
       "      <td>0</td>\n",
       "      <td>1</td>\n",
       "      <td>27</td>\n",
       "      <td>11</td>\n",
       "      <td>51.0</td>\n",
       "      <td>8</td>\n",
       "    </tr>\n",
       "    <tr>\n",
       "      <th>3486</th>\n",
       "      <td>4th grade</td>\n",
       "      <td>1</td>\n",
       "      <td>2</td>\n",
       "      <td>71</td>\n",
       "      <td>10</td>\n",
       "      <td>47.0</td>\n",
       "      <td>7</td>\n",
       "    </tr>\n",
       "  </tbody>\n",
       "</table>\n",
       "<p>3487 rows × 7 columns</p>\n",
       "</div>"
      ],
      "text/plain": [
       "     Current_Customer_Grade  owns_car  wealth_segment  \\\n",
       "0                 1st grade         1               2   \n",
       "1                 1st grade         1               1   \n",
       "2                 1st grade         1               3   \n",
       "3                 1st grade         0               2   \n",
       "4                 1st grade         0               2   \n",
       "...                     ...       ...             ...   \n",
       "3482              4th grade         0               1   \n",
       "3483              4th grade         0               2   \n",
       "3484              4th grade         1               1   \n",
       "3485              4th grade         0               1   \n",
       "3486              4th grade         1               2   \n",
       "\n",
       "      past_3_years_bike_related_purchases  property_valuation   age  label  \n",
       "0                                      13                   8  25.0      2  \n",
       "1                                      28                  10  48.0      6  \n",
       "2                                      92                   9  47.0      7  \n",
       "3                                      14                  10  29.0      3  \n",
       "4                                      30                   9  47.0      8  \n",
       "...                                   ...                 ...   ...    ...  \n",
       "3482                                   40                   3  57.0      5  \n",
       "3483                                   75                   3  27.0      5  \n",
       "3484                                   15                  10  41.0      6  \n",
       "3485                                   27                  11  51.0      8  \n",
       "3486                                   71                  10  47.0      7  \n",
       "\n",
       "[3487 rows x 7 columns]"
      ]
     },
     "execution_count": 167,
     "metadata": {},
     "output_type": "execute_result"
    }
   ],
   "source": [
    "# Check if labels to each row is logical\n",
    "\n",
    "current[\"label\"] = labels\n",
    "current"
   ]
  },
  {
   "cell_type": "code",
   "execution_count": 169,
   "metadata": {},
   "outputs": [],
   "source": [
    "# export file to analyze in SQL\n",
    "\n",
    "current.to_csv(r'../KPMG/current_customer_with_labels.csv', index = False)"
   ]
  },
  {
   "cell_type": "markdown",
   "metadata": {},
   "source": [
    "Assign labels to new dataset - Target"
   ]
  },
  {
   "cell_type": "code",
   "execution_count": 172,
   "metadata": {},
   "outputs": [],
   "source": [
    "path2 = \"../KPMG/target_customer.csv\"\n",
    "target = pd.read_csv(path2)"
   ]
  },
  {
   "cell_type": "code",
   "execution_count": 173,
   "metadata": {
    "collapsed": true,
    "jupyter": {
     "outputs_hidden": true
    }
   },
   "outputs": [
    {
     "data": {
      "text/html": [
       "<div>\n",
       "<style scoped>\n",
       "    .dataframe tbody tr th:only-of-type {\n",
       "        vertical-align: middle;\n",
       "    }\n",
       "\n",
       "    .dataframe tbody tr th {\n",
       "        vertical-align: top;\n",
       "    }\n",
       "\n",
       "    .dataframe thead th {\n",
       "        text-align: right;\n",
       "    }\n",
       "</style>\n",
       "<table border=\"1\" class=\"dataframe\">\n",
       "  <thead>\n",
       "    <tr style=\"text-align: right;\">\n",
       "      <th></th>\n",
       "      <th>owns_car</th>\n",
       "      <th>wealth_segment</th>\n",
       "      <th>past_3_years_bike_related_purchases</th>\n",
       "      <th>property_valuation</th>\n",
       "      <th>age</th>\n",
       "    </tr>\n",
       "  </thead>\n",
       "  <tbody>\n",
       "    <tr>\n",
       "      <th>0</th>\n",
       "      <td>1</td>\n",
       "      <td>1</td>\n",
       "      <td>86</td>\n",
       "      <td>6</td>\n",
       "      <td>63</td>\n",
       "    </tr>\n",
       "    <tr>\n",
       "      <th>1</th>\n",
       "      <td>0</td>\n",
       "      <td>1</td>\n",
       "      <td>69</td>\n",
       "      <td>11</td>\n",
       "      <td>50</td>\n",
       "    </tr>\n",
       "    <tr>\n",
       "      <th>2</th>\n",
       "      <td>0</td>\n",
       "      <td>2</td>\n",
       "      <td>10</td>\n",
       "      <td>5</td>\n",
       "      <td>46</td>\n",
       "    </tr>\n",
       "    <tr>\n",
       "      <th>3</th>\n",
       "      <td>1</td>\n",
       "      <td>2</td>\n",
       "      <td>64</td>\n",
       "      <td>1</td>\n",
       "      <td>41</td>\n",
       "    </tr>\n",
       "    <tr>\n",
       "      <th>4</th>\n",
       "      <td>0</td>\n",
       "      <td>2</td>\n",
       "      <td>34</td>\n",
       "      <td>9</td>\n",
       "      <td>55</td>\n",
       "    </tr>\n",
       "    <tr>\n",
       "      <th>...</th>\n",
       "      <td>...</td>\n",
       "      <td>...</td>\n",
       "      <td>...</td>\n",
       "      <td>...</td>\n",
       "      <td>...</td>\n",
       "    </tr>\n",
       "    <tr>\n",
       "      <th>995</th>\n",
       "      <td>0</td>\n",
       "      <td>2</td>\n",
       "      <td>60</td>\n",
       "      <td>7</td>\n",
       "      <td>61</td>\n",
       "    </tr>\n",
       "    <tr>\n",
       "      <th>996</th>\n",
       "      <td>0</td>\n",
       "      <td>1</td>\n",
       "      <td>22</td>\n",
       "      <td>10</td>\n",
       "      <td>19</td>\n",
       "    </tr>\n",
       "    <tr>\n",
       "      <th>997</th>\n",
       "      <td>1</td>\n",
       "      <td>2</td>\n",
       "      <td>17</td>\n",
       "      <td>2</td>\n",
       "      <td>66</td>\n",
       "    </tr>\n",
       "    <tr>\n",
       "      <th>998</th>\n",
       "      <td>1</td>\n",
       "      <td>1</td>\n",
       "      <td>30</td>\n",
       "      <td>2</td>\n",
       "      <td>67</td>\n",
       "    </tr>\n",
       "    <tr>\n",
       "      <th>999</th>\n",
       "      <td>1</td>\n",
       "      <td>1</td>\n",
       "      <td>56</td>\n",
       "      <td>9</td>\n",
       "      <td>65</td>\n",
       "    </tr>\n",
       "  </tbody>\n",
       "</table>\n",
       "<p>1000 rows × 5 columns</p>\n",
       "</div>"
      ],
      "text/plain": [
       "     owns_car  wealth_segment  past_3_years_bike_related_purchases  \\\n",
       "0           1               1                                   86   \n",
       "1           0               1                                   69   \n",
       "2           0               2                                   10   \n",
       "3           1               2                                   64   \n",
       "4           0               2                                   34   \n",
       "..        ...             ...                                  ...   \n",
       "995         0               2                                   60   \n",
       "996         0               1                                   22   \n",
       "997         1               2                                   17   \n",
       "998         1               1                                   30   \n",
       "999         1               1                                   56   \n",
       "\n",
       "     property_valuation  age  \n",
       "0                     6   63  \n",
       "1                    11   50  \n",
       "2                     5   46  \n",
       "3                     1   41  \n",
       "4                     9   55  \n",
       "..                  ...  ...  \n",
       "995                   7   61  \n",
       "996                  10   19  \n",
       "997                   2   66  \n",
       "998                   2   67  \n",
       "999                   9   65  \n",
       "\n",
       "[1000 rows x 5 columns]"
      ]
     },
     "execution_count": 173,
     "metadata": {},
     "output_type": "execute_result"
    }
   ],
   "source": [
    "target.drop(['DOB'], axis=1, inplace=True)\n",
    "target"
   ]
  },
  {
   "cell_type": "code",
   "execution_count": 170,
   "metadata": {},
   "outputs": [
    {
     "data": {
      "text/plain": [
       "KMeans(n_clusters=10, random_state=42)"
      ]
     },
     "execution_count": 170,
     "metadata": {},
     "output_type": "execute_result"
    }
   ],
   "source": [
    "from sklearn.externals import joblib\n",
    "\n",
    "joblib.dump(k_means, 'k_means.pkl')\n",
    "k_means_loaded = joblib.load('k_means.pkl')\n",
    "\n",
    "k_means_loaded"
   ]
  },
  {
   "cell_type": "code",
   "execution_count": 174,
   "metadata": {},
   "outputs": [],
   "source": [
    "# predit labels for Target\n",
    "\n",
    "t_label = k_means_loaded.predict(target)"
   ]
  },
  {
   "cell_type": "code",
   "execution_count": 175,
   "metadata": {},
   "outputs": [
    {
     "data": {
      "text/html": [
       "<div>\n",
       "<style scoped>\n",
       "    .dataframe tbody tr th:only-of-type {\n",
       "        vertical-align: middle;\n",
       "    }\n",
       "\n",
       "    .dataframe tbody tr th {\n",
       "        vertical-align: top;\n",
       "    }\n",
       "\n",
       "    .dataframe thead th {\n",
       "        text-align: right;\n",
       "    }\n",
       "</style>\n",
       "<table border=\"1\" class=\"dataframe\">\n",
       "  <thead>\n",
       "    <tr style=\"text-align: right;\">\n",
       "      <th></th>\n",
       "      <th>owns_car</th>\n",
       "      <th>wealth_segment</th>\n",
       "      <th>past_3_years_bike_related_purchases</th>\n",
       "      <th>property_valuation</th>\n",
       "      <th>age</th>\n",
       "      <th>label</th>\n",
       "    </tr>\n",
       "  </thead>\n",
       "  <tbody>\n",
       "    <tr>\n",
       "      <th>0</th>\n",
       "      <td>1</td>\n",
       "      <td>1</td>\n",
       "      <td>86</td>\n",
       "      <td>6</td>\n",
       "      <td>63</td>\n",
       "      <td>1</td>\n",
       "    </tr>\n",
       "    <tr>\n",
       "      <th>1</th>\n",
       "      <td>0</td>\n",
       "      <td>1</td>\n",
       "      <td>69</td>\n",
       "      <td>11</td>\n",
       "      <td>50</td>\n",
       "      <td>1</td>\n",
       "    </tr>\n",
       "    <tr>\n",
       "      <th>2</th>\n",
       "      <td>0</td>\n",
       "      <td>2</td>\n",
       "      <td>10</td>\n",
       "      <td>5</td>\n",
       "      <td>46</td>\n",
       "      <td>1</td>\n",
       "    </tr>\n",
       "    <tr>\n",
       "      <th>3</th>\n",
       "      <td>1</td>\n",
       "      <td>2</td>\n",
       "      <td>64</td>\n",
       "      <td>1</td>\n",
       "      <td>41</td>\n",
       "      <td>1</td>\n",
       "    </tr>\n",
       "    <tr>\n",
       "      <th>4</th>\n",
       "      <td>0</td>\n",
       "      <td>2</td>\n",
       "      <td>34</td>\n",
       "      <td>9</td>\n",
       "      <td>55</td>\n",
       "      <td>1</td>\n",
       "    </tr>\n",
       "    <tr>\n",
       "      <th>...</th>\n",
       "      <td>...</td>\n",
       "      <td>...</td>\n",
       "      <td>...</td>\n",
       "      <td>...</td>\n",
       "      <td>...</td>\n",
       "      <td>...</td>\n",
       "    </tr>\n",
       "    <tr>\n",
       "      <th>995</th>\n",
       "      <td>0</td>\n",
       "      <td>2</td>\n",
       "      <td>60</td>\n",
       "      <td>7</td>\n",
       "      <td>61</td>\n",
       "      <td>1</td>\n",
       "    </tr>\n",
       "    <tr>\n",
       "      <th>996</th>\n",
       "      <td>0</td>\n",
       "      <td>1</td>\n",
       "      <td>22</td>\n",
       "      <td>10</td>\n",
       "      <td>19</td>\n",
       "      <td>1</td>\n",
       "    </tr>\n",
       "    <tr>\n",
       "      <th>997</th>\n",
       "      <td>1</td>\n",
       "      <td>2</td>\n",
       "      <td>17</td>\n",
       "      <td>2</td>\n",
       "      <td>66</td>\n",
       "      <td>1</td>\n",
       "    </tr>\n",
       "    <tr>\n",
       "      <th>998</th>\n",
       "      <td>1</td>\n",
       "      <td>1</td>\n",
       "      <td>30</td>\n",
       "      <td>2</td>\n",
       "      <td>67</td>\n",
       "      <td>1</td>\n",
       "    </tr>\n",
       "    <tr>\n",
       "      <th>999</th>\n",
       "      <td>1</td>\n",
       "      <td>1</td>\n",
       "      <td>56</td>\n",
       "      <td>9</td>\n",
       "      <td>65</td>\n",
       "      <td>1</td>\n",
       "    </tr>\n",
       "  </tbody>\n",
       "</table>\n",
       "<p>1000 rows × 6 columns</p>\n",
       "</div>"
      ],
      "text/plain": [
       "     owns_car  wealth_segment  past_3_years_bike_related_purchases  \\\n",
       "0           1               1                                   86   \n",
       "1           0               1                                   69   \n",
       "2           0               2                                   10   \n",
       "3           1               2                                   64   \n",
       "4           0               2                                   34   \n",
       "..        ...             ...                                  ...   \n",
       "995         0               2                                   60   \n",
       "996         0               1                                   22   \n",
       "997         1               2                                   17   \n",
       "998         1               1                                   30   \n",
       "999         1               1                                   56   \n",
       "\n",
       "     property_valuation  age  label  \n",
       "0                     6   63      1  \n",
       "1                    11   50      1  \n",
       "2                     5   46      1  \n",
       "3                     1   41      1  \n",
       "4                     9   55      1  \n",
       "..                  ...  ...    ...  \n",
       "995                   7   61      1  \n",
       "996                  10   19      1  \n",
       "997                   2   66      1  \n",
       "998                   2   67      1  \n",
       "999                   9   65      1  \n",
       "\n",
       "[1000 rows x 6 columns]"
      ]
     },
     "execution_count": 175,
     "metadata": {},
     "output_type": "execute_result"
    }
   ],
   "source": [
    "# complete target_customer_with_labels\n",
    "\n",
    "target[\"label\"] = t_label\n",
    "target"
   ]
  },
  {
   "cell_type": "code",
   "execution_count": 176,
   "metadata": {},
   "outputs": [],
   "source": [
    "# export file\n",
    "\n",
    "target.to_csv(r'../KPMG/target_customer_with_labels.csv', index = False)"
   ]
  },
  {
   "cell_type": "markdown",
   "metadata": {},
   "source": [
    "# Assign grades to target_customer"
   ]
  },
  {
   "cell_type": "code",
   "execution_count": 159,
   "metadata": {},
   "outputs": [],
   "source": [
    "tmp=current.groupby(['Current_Customer_Grade', 'label'])"
   ]
  },
  {
   "cell_type": "code",
   "execution_count": 161,
   "metadata": {},
   "outputs": [
    {
     "data": {
      "text/plain": [
       "Current_Customer_Grade  label\n",
       "1st grade               0         11\n",
       "                        1         15\n",
       "                        2         22\n",
       "                        3          5\n",
       "2nd grade               0         87\n",
       "                        1        132\n",
       "                        2        166\n",
       "                        3         91\n",
       "3rd grade               0        452\n",
       "                        1        571\n",
       "                        2        622\n",
       "                        3        358\n",
       "4th grade               0        203\n",
       "                        1        302\n",
       "                        2        285\n",
       "                        3        165\n",
       "dtype: int64"
      ]
     },
     "execution_count": 161,
     "metadata": {},
     "output_type": "execute_result"
    }
   ],
   "source": [
    "tmp.size()"
   ]
  },
  {
   "cell_type": "markdown",
   "metadata": {},
   "source": [
    "We cannot tell which lable occurs most in the grade.\n",
    "Try to increase the number of grade from original table."
   ]
  },
  {
   "cell_type": "code",
   "execution_count": 178,
   "metadata": {},
   "outputs": [],
   "source": [
    "path3 = \"../KPMG/regrade_current_customer_with_labels.csv\"\n",
    "regrade = pd.read_csv(path3)"
   ]
  },
  {
   "cell_type": "code",
   "execution_count": 185,
   "metadata": {},
   "outputs": [
    {
     "data": {
      "text/plain": [
       "label  Current_Customer_Grade\n",
       "0      10th grade                34\n",
       "       2nd grade                  4\n",
       "       3rd grade                  4\n",
       "       4th grade                 15\n",
       "       5th grade                 31\n",
       "                                 ..\n",
       "9      5th grade                 22\n",
       "       6th grade                 42\n",
       "       7th grade                 63\n",
       "       8th grade                 66\n",
       "       9th grade                 52\n",
       "Length: 98, dtype: int64"
      ]
     },
     "execution_count": 185,
     "metadata": {},
     "output_type": "execute_result"
    }
   ],
   "source": [
    "tmp2=regrade.groupby(['label', 'Current_Customer_Grade'])\n",
    "tmp2.size()"
   ]
  },
  {
   "cell_type": "markdown",
   "metadata": {},
   "source": [
    "Assign Grade to Target customers"
   ]
  },
  {
   "cell_type": "code",
   "execution_count": 201,
   "metadata": {},
   "outputs": [],
   "source": [
    "def conditions(target):\n",
    "    if (target['label']==0): return '8th grade'\n",
    "    elif (target['label']==1): return '8th grade'\n",
    "    elif (target['label']==2): return '7th grade'\n",
    "    elif (target['label']==3): return '9th grade'\n",
    "    elif (target['label']==4): return '8th grade'\n",
    "    elif (target['label']==5): return '6th grade'\n",
    "    elif (target['label']==6): return '6th grade'\n",
    "    elif (target['label']==7): return '8th grade'\n",
    "    elif (target['label']==8): return '9th grade'\n",
    "    else: return '5th grade'\n",
    "    \n",
    "target['customer_grade'] = target.apply(conditions, axis = 1)\n"
   ]
  },
  {
   "cell_type": "code",
   "execution_count": 202,
   "metadata": {},
   "outputs": [
    {
     "data": {
      "text/html": [
       "<div>\n",
       "<style scoped>\n",
       "    .dataframe tbody tr th:only-of-type {\n",
       "        vertical-align: middle;\n",
       "    }\n",
       "\n",
       "    .dataframe tbody tr th {\n",
       "        vertical-align: top;\n",
       "    }\n",
       "\n",
       "    .dataframe thead th {\n",
       "        text-align: right;\n",
       "    }\n",
       "</style>\n",
       "<table border=\"1\" class=\"dataframe\">\n",
       "  <thead>\n",
       "    <tr style=\"text-align: right;\">\n",
       "      <th></th>\n",
       "      <th>owns_car</th>\n",
       "      <th>wealth_segment</th>\n",
       "      <th>past_3_years_bike_related_purchases</th>\n",
       "      <th>property_valuation</th>\n",
       "      <th>age</th>\n",
       "      <th>label</th>\n",
       "      <th>customer_grade</th>\n",
       "    </tr>\n",
       "  </thead>\n",
       "  <tbody>\n",
       "    <tr>\n",
       "      <th>0</th>\n",
       "      <td>1</td>\n",
       "      <td>1</td>\n",
       "      <td>86</td>\n",
       "      <td>6</td>\n",
       "      <td>63</td>\n",
       "      <td>1</td>\n",
       "      <td>8th grade</td>\n",
       "    </tr>\n",
       "    <tr>\n",
       "      <th>1</th>\n",
       "      <td>0</td>\n",
       "      <td>1</td>\n",
       "      <td>69</td>\n",
       "      <td>11</td>\n",
       "      <td>50</td>\n",
       "      <td>1</td>\n",
       "      <td>8th grade</td>\n",
       "    </tr>\n",
       "    <tr>\n",
       "      <th>2</th>\n",
       "      <td>0</td>\n",
       "      <td>2</td>\n",
       "      <td>10</td>\n",
       "      <td>5</td>\n",
       "      <td>46</td>\n",
       "      <td>1</td>\n",
       "      <td>8th grade</td>\n",
       "    </tr>\n",
       "    <tr>\n",
       "      <th>3</th>\n",
       "      <td>1</td>\n",
       "      <td>2</td>\n",
       "      <td>64</td>\n",
       "      <td>1</td>\n",
       "      <td>41</td>\n",
       "      <td>1</td>\n",
       "      <td>8th grade</td>\n",
       "    </tr>\n",
       "    <tr>\n",
       "      <th>4</th>\n",
       "      <td>0</td>\n",
       "      <td>2</td>\n",
       "      <td>34</td>\n",
       "      <td>9</td>\n",
       "      <td>55</td>\n",
       "      <td>1</td>\n",
       "      <td>8th grade</td>\n",
       "    </tr>\n",
       "    <tr>\n",
       "      <th>...</th>\n",
       "      <td>...</td>\n",
       "      <td>...</td>\n",
       "      <td>...</td>\n",
       "      <td>...</td>\n",
       "      <td>...</td>\n",
       "      <td>...</td>\n",
       "      <td>...</td>\n",
       "    </tr>\n",
       "    <tr>\n",
       "      <th>995</th>\n",
       "      <td>0</td>\n",
       "      <td>2</td>\n",
       "      <td>60</td>\n",
       "      <td>7</td>\n",
       "      <td>61</td>\n",
       "      <td>1</td>\n",
       "      <td>8th grade</td>\n",
       "    </tr>\n",
       "    <tr>\n",
       "      <th>996</th>\n",
       "      <td>0</td>\n",
       "      <td>1</td>\n",
       "      <td>22</td>\n",
       "      <td>10</td>\n",
       "      <td>19</td>\n",
       "      <td>1</td>\n",
       "      <td>8th grade</td>\n",
       "    </tr>\n",
       "    <tr>\n",
       "      <th>997</th>\n",
       "      <td>1</td>\n",
       "      <td>2</td>\n",
       "      <td>17</td>\n",
       "      <td>2</td>\n",
       "      <td>66</td>\n",
       "      <td>1</td>\n",
       "      <td>8th grade</td>\n",
       "    </tr>\n",
       "    <tr>\n",
       "      <th>998</th>\n",
       "      <td>1</td>\n",
       "      <td>1</td>\n",
       "      <td>30</td>\n",
       "      <td>2</td>\n",
       "      <td>67</td>\n",
       "      <td>1</td>\n",
       "      <td>8th grade</td>\n",
       "    </tr>\n",
       "    <tr>\n",
       "      <th>999</th>\n",
       "      <td>1</td>\n",
       "      <td>1</td>\n",
       "      <td>56</td>\n",
       "      <td>9</td>\n",
       "      <td>65</td>\n",
       "      <td>1</td>\n",
       "      <td>8th grade</td>\n",
       "    </tr>\n",
       "  </tbody>\n",
       "</table>\n",
       "<p>1000 rows × 7 columns</p>\n",
       "</div>"
      ],
      "text/plain": [
       "     owns_car  wealth_segment  past_3_years_bike_related_purchases  \\\n",
       "0           1               1                                   86   \n",
       "1           0               1                                   69   \n",
       "2           0               2                                   10   \n",
       "3           1               2                                   64   \n",
       "4           0               2                                   34   \n",
       "..        ...             ...                                  ...   \n",
       "995         0               2                                   60   \n",
       "996         0               1                                   22   \n",
       "997         1               2                                   17   \n",
       "998         1               1                                   30   \n",
       "999         1               1                                   56   \n",
       "\n",
       "     property_valuation  age  label customer_grade  \n",
       "0                     6   63      1      8th grade  \n",
       "1                    11   50      1      8th grade  \n",
       "2                     5   46      1      8th grade  \n",
       "3                     1   41      1      8th grade  \n",
       "4                     9   55      1      8th grade  \n",
       "..                  ...  ...    ...            ...  \n",
       "995                   7   61      1      8th grade  \n",
       "996                  10   19      1      8th grade  \n",
       "997                   2   66      1      8th grade  \n",
       "998                   2   67      1      8th grade  \n",
       "999                   9   65      1      8th grade  \n",
       "\n",
       "[1000 rows x 7 columns]"
      ]
     },
     "execution_count": 202,
     "metadata": {},
     "output_type": "execute_result"
    }
   ],
   "source": [
    "target"
   ]
  },
  {
   "cell_type": "code",
   "execution_count": 203,
   "metadata": {},
   "outputs": [],
   "source": [
    "# export file\n",
    "\n",
    "target.to_csv(r'../KPMG/grade_target_customer_with_labels.csv', index = False)"
   ]
  },
  {
   "cell_type": "code",
   "execution_count": null,
   "metadata": {},
   "outputs": [],
   "source": []
  }
 ],
 "metadata": {
  "kernelspec": {
   "display_name": "Python",
   "language": "python",
   "name": "conda-env-python-py"
  },
  "language_info": {
   "codemirror_mode": {
    "name": "ipython",
    "version": 3
   },
   "file_extension": ".py",
   "mimetype": "text/x-python",
   "name": "python",
   "nbconvert_exporter": "python",
   "pygments_lexer": "ipython3",
   "version": "3.6.11"
  }
 },
 "nbformat": 4,
 "nbformat_minor": 4
}
